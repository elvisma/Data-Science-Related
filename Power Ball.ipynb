{
 "cells": [
  {
   "cell_type": "code",
   "execution_count": 1,
   "metadata": {},
   "outputs": [
    {
     "name": "stdout",
     "output_type": "stream",
     "text": [
      "[2, 7, 42, 64, 67, 4]\n",
      "[4, 5, 18, 26, 29, 22]\n",
      "[10, 11, 12, 27, 67, 14]\n",
      "[7, 15, 21, 62, 66, 13]\n",
      "[25, 34, 60, 65, 69, 21]\n"
     ]
    }
   ],
   "source": [
    "import random as r\n",
    "result=[]\n",
    "for ticket in range(5):\n",
    "    for i in range(5):\n",
    "        number=r.randint(1,69)\n",
    "        while (number in result):\n",
    "            number=r.randint(1,69)\n",
    "        result.append(number)\n",
    "    result.sort()\n",
    "    result.append(r.randint(1,26))\n",
    "    print(result)\n",
    "    result=[]\n"
   ]
  }
 ],
 "metadata": {
  "kernelspec": {
   "display_name": "Python 3",
   "language": "python",
   "name": "python3"
  },
  "language_info": {
   "codemirror_mode": {
    "name": "ipython",
    "version": 3
   },
   "file_extension": ".py",
   "mimetype": "text/x-python",
   "name": "python",
   "nbconvert_exporter": "python",
   "pygments_lexer": "ipython3",
   "version": "3.7.1"
  }
 },
 "nbformat": 4,
 "nbformat_minor": 2
}
